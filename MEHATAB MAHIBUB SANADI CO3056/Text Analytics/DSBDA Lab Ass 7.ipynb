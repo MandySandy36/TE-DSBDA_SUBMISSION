{
 "cells": [
  {
   "cell_type": "markdown",
   "id": "cd14a74c-d767-486a-b8d4-3c6e352fffe4",
   "metadata": {},
   "source": [
    "# Assignment 7"
   ]
  },
  {
   "cell_type": "markdown",
   "id": "20b43bbc-d5fe-47ac-99b6-0be93bdc55c8",
   "metadata": {},
   "source": [
    "## Import Required Library"
   ]
  },
  {
   "cell_type": "code",
   "execution_count": 1,
   "id": "397c7d0b-c38a-43a8-b185-f302723becdc",
   "metadata": {},
   "outputs": [
    {
     "name": "stderr",
     "output_type": "stream",
     "text": [
      "[nltk_data] Downloading package stopwords to\n",
      "[nltk_data]     C:\\Users\\mehat\\AppData\\Roaming\\nltk_data...\n",
      "[nltk_data]   Package stopwords is already up-to-date!\n",
      "[nltk_data] Downloading package punkt to\n",
      "[nltk_data]     C:\\Users\\mehat\\AppData\\Roaming\\nltk_data...\n",
      "[nltk_data]   Package punkt is already up-to-date!\n",
      "[nltk_data] Downloading package wordnet to\n",
      "[nltk_data]     C:\\Users\\mehat\\AppData\\Roaming\\nltk_data...\n",
      "[nltk_data]   Package wordnet is already up-to-date!\n",
      "[nltk_data] Downloading package averaged_perceptron_tagger to\n",
      "[nltk_data]     C:\\Users\\mehat\\AppData\\Roaming\\nltk_data...\n",
      "[nltk_data]   Package averaged_perceptron_tagger is already up-to-\n",
      "[nltk_data]       date!\n",
      "[nltk_data] Downloading package punkt_tab to\n",
      "[nltk_data]     C:\\Users\\mehat\\AppData\\Roaming\\nltk_data...\n",
      "[nltk_data]   Package punkt_tab is already up-to-date!\n",
      "[nltk_data] Downloading package averaged_perceptron_tagger_eng to\n",
      "[nltk_data]     C:\\Users\\mehat\\AppData\\Roaming\\nltk_data...\n",
      "[nltk_data]   Package averaged_perceptron_tagger_eng is already up-to-\n",
      "[nltk_data]       date!\n"
     ]
    },
    {
     "data": {
      "text/plain": [
       "True"
      ]
     },
     "execution_count": 1,
     "metadata": {},
     "output_type": "execute_result"
    }
   ],
   "source": [
    "import nltk\n",
    "nltk.download('stopwords')\n",
    "nltk.download('punkt')\n",
    "nltk.download('wordnet')\n",
    "nltk.download('averaged_perceptron_tagger')\n",
    "nltk.download('punkt_tab')\n",
    "nltk.download('averaged_perceptron_tagger_eng')"
   ]
  },
  {
   "cell_type": "markdown",
   "id": "afa4dc18-6e30-472b-8fe5-2d435dc3a1ac",
   "metadata": {},
   "source": [
    "## 1. Tokenize text using NLTK in python"
   ]
  },
  {
   "cell_type": "code",
   "execution_count": 2,
   "id": "c4cdbf09-313b-4b8e-a9be-ac375af3db91",
   "metadata": {},
   "outputs": [],
   "source": [
    "para='Rajgad (literal meaning Ruling Fort) is a hill fort situated in the Pune district of Maharashtra, India. Formerly known as Murumdev, the fort was the capital of the Mara tha Empire under the rule of Chatrapati Shivaji Maharaj for almost 26 years, after w hich the capital was moved to the Raigad Fort.[1] Treasures discovered from an adjac ent fort called Torna were used to completely build and fortify the Rajgad Fort.'"
   ]
  },
  {
   "cell_type": "code",
   "execution_count": 3,
   "id": "a0d709be-54d2-4e20-977b-e8b7ea3977c6",
   "metadata": {},
   "outputs": [
    {
     "name": "stdout",
     "output_type": "stream",
     "text": [
      "Rajgad (literal meaning Ruling Fort) is a hill fort situated in the Pune district of Maharashtra, India. Formerly known as Murumdev, the fort was the capital of the Mara tha Empire under the rule of Chatrapati Shivaji Maharaj for almost 26 years, after w hich the capital was moved to the Raigad Fort.[1] Treasures discovered from an adjac ent fort called Torna were used to completely build and fortify the Rajgad Fort.\n"
     ]
    }
   ],
   "source": [
    "print(para)"
   ]
  },
  {
   "cell_type": "code",
   "execution_count": 4,
   "id": "963dbbbb-933a-49c2-b8b5-572a23ab547d",
   "metadata": {},
   "outputs": [
    {
     "data": {
      "text/plain": [
       "['Rajgad',\n",
       " '(literal',\n",
       " 'meaning',\n",
       " 'Ruling',\n",
       " 'Fort)',\n",
       " 'is',\n",
       " 'a',\n",
       " 'hill',\n",
       " 'fort',\n",
       " 'situated',\n",
       " 'in',\n",
       " 'the',\n",
       " 'Pune',\n",
       " 'district',\n",
       " 'of',\n",
       " 'Maharashtra,',\n",
       " 'India.',\n",
       " 'Formerly',\n",
       " 'known',\n",
       " 'as',\n",
       " 'Murumdev,',\n",
       " 'the',\n",
       " 'fort',\n",
       " 'was',\n",
       " 'the',\n",
       " 'capital',\n",
       " 'of',\n",
       " 'the',\n",
       " 'Mara',\n",
       " 'tha',\n",
       " 'Empire',\n",
       " 'under',\n",
       " 'the',\n",
       " 'rule',\n",
       " 'of',\n",
       " 'Chatrapati',\n",
       " 'Shivaji',\n",
       " 'Maharaj',\n",
       " 'for',\n",
       " 'almost',\n",
       " '26',\n",
       " 'years,',\n",
       " 'after',\n",
       " 'w',\n",
       " 'hich',\n",
       " 'the',\n",
       " 'capital',\n",
       " 'was',\n",
       " 'moved',\n",
       " 'to',\n",
       " 'the',\n",
       " 'Raigad',\n",
       " 'Fort.[1]',\n",
       " 'Treasures',\n",
       " 'discovered',\n",
       " 'from',\n",
       " 'an',\n",
       " 'adjac',\n",
       " 'ent',\n",
       " 'fort',\n",
       " 'called',\n",
       " 'Torna',\n",
       " 'were',\n",
       " 'used',\n",
       " 'to',\n",
       " 'completely',\n",
       " 'build',\n",
       " 'and',\n",
       " 'fortify',\n",
       " 'the',\n",
       " 'Rajgad',\n",
       " 'Fort.']"
      ]
     },
     "execution_count": 4,
     "metadata": {},
     "output_type": "execute_result"
    }
   ],
   "source": [
    "para.split()"
   ]
  },
  {
   "cell_type": "code",
   "execution_count": 5,
   "id": "be0f7987-6ddf-4ae0-a867-7b28a8f672bd",
   "metadata": {},
   "outputs": [],
   "source": [
    "from nltk.tokenize import sent_tokenize\n",
    "from nltk.tokenize import word_tokenize"
   ]
  },
  {
   "cell_type": "code",
   "execution_count": 6,
   "id": "62773011-f71b-4cb6-a706-f5917d32a74c",
   "metadata": {},
   "outputs": [],
   "source": [
    "sent=sent_tokenize(para)"
   ]
  },
  {
   "cell_type": "code",
   "execution_count": 7,
   "id": "1f13b269-e661-4689-8477-00f089ed6f25",
   "metadata": {},
   "outputs": [
    {
     "data": {
      "text/plain": [
       "'[1] Treasures discovered from an adjac ent fort called Torna were used to completely build and fortify the Rajgad Fort.'"
      ]
     },
     "execution_count": 7,
     "metadata": {},
     "output_type": "execute_result"
    }
   ],
   "source": [
    "sent[2]"
   ]
  },
  {
   "cell_type": "code",
   "execution_count": 8,
   "id": "41bf9d2b-18be-4a94-83a1-2608fb0c3c3f",
   "metadata": {},
   "outputs": [],
   "source": [
    "words=word_tokenize(para)"
   ]
  },
  {
   "cell_type": "code",
   "execution_count": 9,
   "id": "c1c724ce-9260-4319-9096-60c8da067283",
   "metadata": {},
   "outputs": [
    {
     "data": {
      "text/plain": [
       "['Rajgad',\n",
       " '(',\n",
       " 'literal',\n",
       " 'meaning',\n",
       " 'Ruling',\n",
       " 'Fort',\n",
       " ')',\n",
       " 'is',\n",
       " 'a',\n",
       " 'hill',\n",
       " 'fort',\n",
       " 'situated',\n",
       " 'in',\n",
       " 'the',\n",
       " 'Pune',\n",
       " 'district',\n",
       " 'of',\n",
       " 'Maharashtra',\n",
       " ',',\n",
       " 'India',\n",
       " '.',\n",
       " 'Formerly',\n",
       " 'known',\n",
       " 'as',\n",
       " 'Murumdev',\n",
       " ',',\n",
       " 'the',\n",
       " 'fort',\n",
       " 'was',\n",
       " 'the',\n",
       " 'capital',\n",
       " 'of',\n",
       " 'the',\n",
       " 'Mara',\n",
       " 'tha',\n",
       " 'Empire',\n",
       " 'under',\n",
       " 'the',\n",
       " 'rule',\n",
       " 'of',\n",
       " 'Chatrapati',\n",
       " 'Shivaji',\n",
       " 'Maharaj',\n",
       " 'for',\n",
       " 'almost',\n",
       " '26',\n",
       " 'years',\n",
       " ',',\n",
       " 'after',\n",
       " 'w',\n",
       " 'hich',\n",
       " 'the',\n",
       " 'capital',\n",
       " 'was',\n",
       " 'moved',\n",
       " 'to',\n",
       " 'the',\n",
       " 'Raigad',\n",
       " 'Fort',\n",
       " '.',\n",
       " '[',\n",
       " '1',\n",
       " ']',\n",
       " 'Treasures',\n",
       " 'discovered',\n",
       " 'from',\n",
       " 'an',\n",
       " 'adjac',\n",
       " 'ent',\n",
       " 'fort',\n",
       " 'called',\n",
       " 'Torna',\n",
       " 'were',\n",
       " 'used',\n",
       " 'to',\n",
       " 'completely',\n",
       " 'build',\n",
       " 'and',\n",
       " 'fortify',\n",
       " 'the',\n",
       " 'Rajgad',\n",
       " 'Fort',\n",
       " '.']"
      ]
     },
     "execution_count": 9,
     "metadata": {},
     "output_type": "execute_result"
    }
   ],
   "source": [
    "words"
   ]
  },
  {
   "cell_type": "markdown",
   "id": "c82028da-3762-4166-ae63-098d4d500f3e",
   "metadata": {},
   "source": [
    "## 2. Removing stop words with NLTK in Python"
   ]
  },
  {
   "cell_type": "code",
   "execution_count": 10,
   "id": "3d952d88-d759-4be2-a7a8-f60a82748201",
   "metadata": {},
   "outputs": [],
   "source": [
    "from nltk.corpus import stopwords"
   ]
  },
  {
   "cell_type": "code",
   "execution_count": 11,
   "id": "2d1ba7f0-889c-42d3-be86-20828761d6b5",
   "metadata": {},
   "outputs": [],
   "source": [
    "swords= stopwords.words('english')"
   ]
  },
  {
   "cell_type": "code",
   "execution_count": 12,
   "id": "612384ab-239a-4f3b-b31e-e9fddbd0f3fe",
   "metadata": {},
   "outputs": [
    {
     "data": {
      "text/plain": [
       "['a',\n",
       " 'about',\n",
       " 'above',\n",
       " 'after',\n",
       " 'again',\n",
       " 'against',\n",
       " 'ain',\n",
       " 'all',\n",
       " 'am',\n",
       " 'an',\n",
       " 'and',\n",
       " 'any',\n",
       " 'are',\n",
       " 'aren',\n",
       " \"aren't\",\n",
       " 'as',\n",
       " 'at',\n",
       " 'be',\n",
       " 'because',\n",
       " 'been',\n",
       " 'before',\n",
       " 'being',\n",
       " 'below',\n",
       " 'between',\n",
       " 'both',\n",
       " 'but',\n",
       " 'by',\n",
       " 'can',\n",
       " 'couldn',\n",
       " \"couldn't\",\n",
       " 'd',\n",
       " 'did',\n",
       " 'didn',\n",
       " \"didn't\",\n",
       " 'do',\n",
       " 'does',\n",
       " 'doesn',\n",
       " \"doesn't\",\n",
       " 'doing',\n",
       " 'don',\n",
       " \"don't\",\n",
       " 'down',\n",
       " 'during',\n",
       " 'each',\n",
       " 'few',\n",
       " 'for',\n",
       " 'from',\n",
       " 'further',\n",
       " 'had',\n",
       " 'hadn',\n",
       " \"hadn't\",\n",
       " 'has',\n",
       " 'hasn',\n",
       " \"hasn't\",\n",
       " 'have',\n",
       " 'haven',\n",
       " \"haven't\",\n",
       " 'having',\n",
       " 'he',\n",
       " \"he'd\",\n",
       " \"he'll\",\n",
       " 'her',\n",
       " 'here',\n",
       " 'hers',\n",
       " 'herself',\n",
       " \"he's\",\n",
       " 'him',\n",
       " 'himself',\n",
       " 'his',\n",
       " 'how',\n",
       " 'i',\n",
       " \"i'd\",\n",
       " 'if',\n",
       " \"i'll\",\n",
       " \"i'm\",\n",
       " 'in',\n",
       " 'into',\n",
       " 'is',\n",
       " 'isn',\n",
       " \"isn't\",\n",
       " 'it',\n",
       " \"it'd\",\n",
       " \"it'll\",\n",
       " \"it's\",\n",
       " 'its',\n",
       " 'itself',\n",
       " \"i've\",\n",
       " 'just',\n",
       " 'll',\n",
       " 'm',\n",
       " 'ma',\n",
       " 'me',\n",
       " 'mightn',\n",
       " \"mightn't\",\n",
       " 'more',\n",
       " 'most',\n",
       " 'mustn',\n",
       " \"mustn't\",\n",
       " 'my',\n",
       " 'myself',\n",
       " 'needn',\n",
       " \"needn't\",\n",
       " 'no',\n",
       " 'nor',\n",
       " 'not',\n",
       " 'now',\n",
       " 'o',\n",
       " 'of',\n",
       " 'off',\n",
       " 'on',\n",
       " 'once',\n",
       " 'only',\n",
       " 'or',\n",
       " 'other',\n",
       " 'our',\n",
       " 'ours',\n",
       " 'ourselves',\n",
       " 'out',\n",
       " 'over',\n",
       " 'own',\n",
       " 're',\n",
       " 's',\n",
       " 'same',\n",
       " 'shan',\n",
       " \"shan't\",\n",
       " 'she',\n",
       " \"she'd\",\n",
       " \"she'll\",\n",
       " \"she's\",\n",
       " 'should',\n",
       " 'shouldn',\n",
       " \"shouldn't\",\n",
       " \"should've\",\n",
       " 'so',\n",
       " 'some',\n",
       " 'such',\n",
       " 't',\n",
       " 'than',\n",
       " 'that',\n",
       " \"that'll\",\n",
       " 'the',\n",
       " 'their',\n",
       " 'theirs',\n",
       " 'them',\n",
       " 'themselves',\n",
       " 'then',\n",
       " 'there',\n",
       " 'these',\n",
       " 'they',\n",
       " \"they'd\",\n",
       " \"they'll\",\n",
       " \"they're\",\n",
       " \"they've\",\n",
       " 'this',\n",
       " 'those',\n",
       " 'through',\n",
       " 'to',\n",
       " 'too',\n",
       " 'under',\n",
       " 'until',\n",
       " 'up',\n",
       " 've',\n",
       " 'very',\n",
       " 'was',\n",
       " 'wasn',\n",
       " \"wasn't\",\n",
       " 'we',\n",
       " \"we'd\",\n",
       " \"we'll\",\n",
       " \"we're\",\n",
       " 'were',\n",
       " 'weren',\n",
       " \"weren't\",\n",
       " \"we've\",\n",
       " 'what',\n",
       " 'when',\n",
       " 'where',\n",
       " 'which',\n",
       " 'while',\n",
       " 'who',\n",
       " 'whom',\n",
       " 'why',\n",
       " 'will',\n",
       " 'with',\n",
       " 'won',\n",
       " \"won't\",\n",
       " 'wouldn',\n",
       " \"wouldn't\",\n",
       " 'y',\n",
       " 'you',\n",
       " \"you'd\",\n",
       " \"you'll\",\n",
       " 'your',\n",
       " \"you're\",\n",
       " 'yours',\n",
       " 'yourself',\n",
       " 'yourselves',\n",
       " \"you've\"]"
      ]
     },
     "execution_count": 12,
     "metadata": {},
     "output_type": "execute_result"
    }
   ],
   "source": [
    "swords"
   ]
  },
  {
   "cell_type": "code",
   "execution_count": 13,
   "id": "d59ba66f-12f2-4c8b-9872-e66c496c2630",
   "metadata": {},
   "outputs": [],
   "source": [
    "x=[word for word in words if word not in swords]"
   ]
  },
  {
   "cell_type": "code",
   "execution_count": 14,
   "id": "f6ab5aad-a998-4d49-bec0-6f6e64d367df",
   "metadata": {},
   "outputs": [
    {
     "data": {
      "text/plain": [
       "['Rajgad',\n",
       " '(',\n",
       " 'literal',\n",
       " 'meaning',\n",
       " 'Ruling',\n",
       " 'Fort',\n",
       " ')',\n",
       " 'hill',\n",
       " 'fort',\n",
       " 'situated',\n",
       " 'Pune',\n",
       " 'district',\n",
       " 'Maharashtra',\n",
       " ',',\n",
       " 'India',\n",
       " '.',\n",
       " 'Formerly',\n",
       " 'known',\n",
       " 'Murumdev',\n",
       " ',',\n",
       " 'fort',\n",
       " 'capital',\n",
       " 'Mara',\n",
       " 'tha',\n",
       " 'Empire',\n",
       " 'rule',\n",
       " 'Chatrapati',\n",
       " 'Shivaji',\n",
       " 'Maharaj',\n",
       " 'almost',\n",
       " '26',\n",
       " 'years',\n",
       " ',',\n",
       " 'w',\n",
       " 'hich',\n",
       " 'capital',\n",
       " 'moved',\n",
       " 'Raigad',\n",
       " 'Fort',\n",
       " '.',\n",
       " '[',\n",
       " '1',\n",
       " ']',\n",
       " 'Treasures',\n",
       " 'discovered',\n",
       " 'adjac',\n",
       " 'ent',\n",
       " 'fort',\n",
       " 'called',\n",
       " 'Torna',\n",
       " 'used',\n",
       " 'completely',\n",
       " 'build',\n",
       " 'fortify',\n",
       " 'Rajgad',\n",
       " 'Fort',\n",
       " '.']"
      ]
     },
     "execution_count": 14,
     "metadata": {},
     "output_type": "execute_result"
    }
   ],
   "source": [
    "x"
   ]
  },
  {
   "cell_type": "code",
   "execution_count": 15,
   "id": "92d52dcc-3043-4afb-9cd5-3c2dfa83e678",
   "metadata": {},
   "outputs": [],
   "source": [
    "x=[word for word in words if word.lower() not in swords]"
   ]
  },
  {
   "cell_type": "code",
   "execution_count": 16,
   "id": "371156c4-3dda-44c3-8680-d8ff93f5f738",
   "metadata": {},
   "outputs": [
    {
     "data": {
      "text/plain": [
       "['Rajgad',\n",
       " '(',\n",
       " 'literal',\n",
       " 'meaning',\n",
       " 'Ruling',\n",
       " 'Fort',\n",
       " ')',\n",
       " 'hill',\n",
       " 'fort',\n",
       " 'situated',\n",
       " 'Pune',\n",
       " 'district',\n",
       " 'Maharashtra',\n",
       " ',',\n",
       " 'India',\n",
       " '.',\n",
       " 'Formerly',\n",
       " 'known',\n",
       " 'Murumdev',\n",
       " ',',\n",
       " 'fort',\n",
       " 'capital',\n",
       " 'Mara',\n",
       " 'tha',\n",
       " 'Empire',\n",
       " 'rule',\n",
       " 'Chatrapati',\n",
       " 'Shivaji',\n",
       " 'Maharaj',\n",
       " 'almost',\n",
       " '26',\n",
       " 'years',\n",
       " ',',\n",
       " 'w',\n",
       " 'hich',\n",
       " 'capital',\n",
       " 'moved',\n",
       " 'Raigad',\n",
       " 'Fort',\n",
       " '.',\n",
       " '[',\n",
       " '1',\n",
       " ']',\n",
       " 'Treasures',\n",
       " 'discovered',\n",
       " 'adjac',\n",
       " 'ent',\n",
       " 'fort',\n",
       " 'called',\n",
       " 'Torna',\n",
       " 'used',\n",
       " 'completely',\n",
       " 'build',\n",
       " 'fortify',\n",
       " 'Rajgad',\n",
       " 'Fort',\n",
       " '.']"
      ]
     },
     "execution_count": 16,
     "metadata": {},
     "output_type": "execute_result"
    }
   ],
   "source": [
    "x"
   ]
  },
  {
   "cell_type": "markdown",
   "id": "142156ea-6083-4b84-a567-752849aa6475",
   "metadata": {},
   "source": [
    "## 4. Stemming words with NLTK"
   ]
  },
  {
   "cell_type": "code",
   "execution_count": 17,
   "id": "2cf32b33-a46f-472d-9361-5636e51ec2f4",
   "metadata": {},
   "outputs": [],
   "source": [
    "from nltk.stem import PorterStemmer"
   ]
  },
  {
   "cell_type": "code",
   "execution_count": 18,
   "id": "d05ca5a3-ce03-4046-a42d-20f036b9fe65",
   "metadata": {},
   "outputs": [],
   "source": [
    "ps=PorterStemmer()"
   ]
  },
  {
   "cell_type": "code",
   "execution_count": 19,
   "id": "a6d9d6a6-f6c5-4ef2-9897-9caa388a66c8",
   "metadata": {},
   "outputs": [
    {
     "data": {
      "text/plain": [
       "'work'"
      ]
     },
     "execution_count": 19,
     "metadata": {},
     "output_type": "execute_result"
    }
   ],
   "source": [
    "ps.stem('working')"
   ]
  },
  {
   "cell_type": "code",
   "execution_count": 20,
   "id": "98a27646-1573-4ad8-a0f1-6a128053caaf",
   "metadata": {},
   "outputs": [],
   "source": [
    "y=[ps.stem(word) for word in x]"
   ]
  },
  {
   "cell_type": "code",
   "execution_count": 21,
   "id": "2e5d76e0-24c8-4953-9f97-be2c82510c66",
   "metadata": {},
   "outputs": [
    {
     "data": {
      "text/plain": [
       "['rajgad',\n",
       " '(',\n",
       " 'liter',\n",
       " 'mean',\n",
       " 'rule',\n",
       " 'fort',\n",
       " ')',\n",
       " 'hill',\n",
       " 'fort',\n",
       " 'situat',\n",
       " 'pune',\n",
       " 'district',\n",
       " 'maharashtra',\n",
       " ',',\n",
       " 'india',\n",
       " '.',\n",
       " 'formerli',\n",
       " 'known',\n",
       " 'murumdev',\n",
       " ',',\n",
       " 'fort',\n",
       " 'capit',\n",
       " 'mara',\n",
       " 'tha',\n",
       " 'empir',\n",
       " 'rule',\n",
       " 'chatrapati',\n",
       " 'shivaji',\n",
       " 'maharaj',\n",
       " 'almost',\n",
       " '26',\n",
       " 'year',\n",
       " ',',\n",
       " 'w',\n",
       " 'hich',\n",
       " 'capit',\n",
       " 'move',\n",
       " 'raigad',\n",
       " 'fort',\n",
       " '.',\n",
       " '[',\n",
       " '1',\n",
       " ']',\n",
       " 'treasur',\n",
       " 'discov',\n",
       " 'adjac',\n",
       " 'ent',\n",
       " 'fort',\n",
       " 'call',\n",
       " 'torna',\n",
       " 'use',\n",
       " 'complet',\n",
       " 'build',\n",
       " 'fortifi',\n",
       " 'rajgad',\n",
       " 'fort',\n",
       " '.']"
      ]
     },
     "execution_count": 21,
     "metadata": {},
     "output_type": "execute_result"
    }
   ],
   "source": [
    "y"
   ]
  },
  {
   "cell_type": "markdown",
   "id": "3d6fe0a8-e6f1-435e-9a46-31170d0b3bf4",
   "metadata": {},
   "source": [
    "## 3. Lemmatization with NLTK"
   ]
  },
  {
   "cell_type": "code",
   "execution_count": 22,
   "id": "d479c7ab-7624-4a6e-830d-40805d5a91d0",
   "metadata": {},
   "outputs": [],
   "source": [
    "from nltk.stem import WordNetLemmatizer"
   ]
  },
  {
   "cell_type": "code",
   "execution_count": 23,
   "id": "d3d142d8-a4f9-4d76-a65d-3228c07d5a7d",
   "metadata": {},
   "outputs": [],
   "source": [
    "wnl=WordNetLemmatizer()"
   ]
  },
  {
   "cell_type": "code",
   "execution_count": 24,
   "id": "00ad6256-26a0-4cbf-8208-50b4c5f38b7d",
   "metadata": {},
   "outputs": [
    {
     "data": {
      "text/plain": [
       "'work'"
      ]
     },
     "execution_count": 24,
     "metadata": {},
     "output_type": "execute_result"
    }
   ],
   "source": [
    "wnl.lemmatize('working',pos='v')"
   ]
  },
  {
   "cell_type": "code",
   "execution_count": 25,
   "id": "93ea251b-4767-4331-960d-c5f75679bb78",
   "metadata": {},
   "outputs": [
    {
     "name": "stdout",
     "output_type": "stream",
     "text": [
      "went\n",
      "go\n"
     ]
    }
   ],
   "source": [
    "print(ps.stem('went'))\n",
    "print(wnl.lemmatize('went',pos='v'))"
   ]
  },
  {
   "cell_type": "code",
   "execution_count": 26,
   "id": "f6269d13-199a-436e-8bb5-b65078082970",
   "metadata": {},
   "outputs": [],
   "source": [
    "z=[wnl.lemmatize(word,pos='v') for word in x]"
   ]
  },
  {
   "cell_type": "code",
   "execution_count": 27,
   "id": "db2a38df-f2aa-463d-b685-305cb0a172d1",
   "metadata": {},
   "outputs": [
    {
     "data": {
      "text/plain": [
       "['Rajgad',\n",
       " '(',\n",
       " 'literal',\n",
       " 'mean',\n",
       " 'Ruling',\n",
       " 'Fort',\n",
       " ')',\n",
       " 'hill',\n",
       " 'fort',\n",
       " 'situate',\n",
       " 'Pune',\n",
       " 'district',\n",
       " 'Maharashtra',\n",
       " ',',\n",
       " 'India',\n",
       " '.',\n",
       " 'Formerly',\n",
       " 'know',\n",
       " 'Murumdev',\n",
       " ',',\n",
       " 'fort',\n",
       " 'capital',\n",
       " 'Mara',\n",
       " 'tha',\n",
       " 'Empire',\n",
       " 'rule',\n",
       " 'Chatrapati',\n",
       " 'Shivaji',\n",
       " 'Maharaj',\n",
       " 'almost',\n",
       " '26',\n",
       " 'years',\n",
       " ',',\n",
       " 'w',\n",
       " 'hich',\n",
       " 'capital',\n",
       " 'move',\n",
       " 'Raigad',\n",
       " 'Fort',\n",
       " '.',\n",
       " '[',\n",
       " '1',\n",
       " ']',\n",
       " 'Treasures',\n",
       " 'discover',\n",
       " 'adjac',\n",
       " 'ent',\n",
       " 'fort',\n",
       " 'call',\n",
       " 'Torna',\n",
       " 'use',\n",
       " 'completely',\n",
       " 'build',\n",
       " 'fortify',\n",
       " 'Rajgad',\n",
       " 'Fort',\n",
       " '.']"
      ]
     },
     "execution_count": 27,
     "metadata": {},
     "output_type": "execute_result"
    }
   ],
   "source": [
    "z"
   ]
  },
  {
   "cell_type": "code",
   "execution_count": 28,
   "id": "736afa78-c470-401a-b7d1-0dfe662d6669",
   "metadata": {},
   "outputs": [],
   "source": [
    "import string"
   ]
  },
  {
   "cell_type": "code",
   "execution_count": 29,
   "id": "42760f47-3f96-4613-89af-c1e933962124",
   "metadata": {},
   "outputs": [
    {
     "data": {
      "text/plain": [
       "'!\"#$%&\\'()*+,-./:;<=>?@[\\\\]^_`{|}~'"
      ]
     },
     "execution_count": 29,
     "metadata": {},
     "output_type": "execute_result"
    }
   ],
   "source": [
    "string.punctuation"
   ]
  },
  {
   "cell_type": "code",
   "execution_count": 30,
   "id": "36b5d571-2253-4cfc-9bc3-fe204e284b02",
   "metadata": {},
   "outputs": [],
   "source": [
    "t=[word for word in words if word not in string.punctuation]"
   ]
  },
  {
   "cell_type": "code",
   "execution_count": 31,
   "id": "52bbfd54-b1b9-4abc-b019-dc2faa6b233d",
   "metadata": {
    "scrolled": true
   },
   "outputs": [
    {
     "data": {
      "text/plain": [
       "['Rajgad',\n",
       " 'literal',\n",
       " 'meaning',\n",
       " 'Ruling',\n",
       " 'Fort',\n",
       " 'is',\n",
       " 'a',\n",
       " 'hill',\n",
       " 'fort',\n",
       " 'situated',\n",
       " 'in',\n",
       " 'the',\n",
       " 'Pune',\n",
       " 'district',\n",
       " 'of',\n",
       " 'Maharashtra',\n",
       " 'India',\n",
       " 'Formerly',\n",
       " 'known',\n",
       " 'as',\n",
       " 'Murumdev',\n",
       " 'the',\n",
       " 'fort',\n",
       " 'was',\n",
       " 'the',\n",
       " 'capital',\n",
       " 'of',\n",
       " 'the',\n",
       " 'Mara',\n",
       " 'tha',\n",
       " 'Empire',\n",
       " 'under',\n",
       " 'the',\n",
       " 'rule',\n",
       " 'of',\n",
       " 'Chatrapati',\n",
       " 'Shivaji',\n",
       " 'Maharaj',\n",
       " 'for',\n",
       " 'almost',\n",
       " '26',\n",
       " 'years',\n",
       " 'after',\n",
       " 'w',\n",
       " 'hich',\n",
       " 'the',\n",
       " 'capital',\n",
       " 'was',\n",
       " 'moved',\n",
       " 'to',\n",
       " 'the',\n",
       " 'Raigad',\n",
       " 'Fort',\n",
       " '1',\n",
       " 'Treasures',\n",
       " 'discovered',\n",
       " 'from',\n",
       " 'an',\n",
       " 'adjac',\n",
       " 'ent',\n",
       " 'fort',\n",
       " 'called',\n",
       " 'Torna',\n",
       " 'were',\n",
       " 'used',\n",
       " 'to',\n",
       " 'completely',\n",
       " 'build',\n",
       " 'and',\n",
       " 'fortify',\n",
       " 'the',\n",
       " 'Rajgad',\n",
       " 'Fort']"
      ]
     },
     "execution_count": 31,
     "metadata": {},
     "output_type": "execute_result"
    }
   ],
   "source": [
    "t"
   ]
  },
  {
   "cell_type": "code",
   "execution_count": 32,
   "id": "166203d5-c3ea-444f-9d9f-8673a0220d2a",
   "metadata": {},
   "outputs": [],
   "source": [
    "from nltk import pos_tag"
   ]
  },
  {
   "cell_type": "code",
   "execution_count": 33,
   "id": "0f8f73b5-420c-406a-8bca-ad0292a28345",
   "metadata": {},
   "outputs": [
    {
     "data": {
      "text/plain": [
       "[('Rajgad', 'NNP'),\n",
       " ('literal', 'JJ'),\n",
       " ('meaning', 'NN'),\n",
       " ('Ruling', 'NNP'),\n",
       " ('Fort', 'NNP'),\n",
       " ('is', 'VBZ'),\n",
       " ('a', 'DT'),\n",
       " ('hill', 'NN'),\n",
       " ('fort', 'NN'),\n",
       " ('situated', 'VBN'),\n",
       " ('in', 'IN'),\n",
       " ('the', 'DT'),\n",
       " ('Pune', 'NNP'),\n",
       " ('district', 'NN'),\n",
       " ('of', 'IN'),\n",
       " ('Maharashtra', 'NNP'),\n",
       " ('India', 'NNP'),\n",
       " ('Formerly', 'RB'),\n",
       " ('known', 'VBN'),\n",
       " ('as', 'IN'),\n",
       " ('Murumdev', 'NNP'),\n",
       " ('the', 'DT'),\n",
       " ('fort', 'NN'),\n",
       " ('was', 'VBD'),\n",
       " ('the', 'DT'),\n",
       " ('capital', 'NN'),\n",
       " ('of', 'IN'),\n",
       " ('the', 'DT'),\n",
       " ('Mara', 'NNP'),\n",
       " ('tha', 'NN'),\n",
       " ('Empire', 'NNP'),\n",
       " ('under', 'IN'),\n",
       " ('the', 'DT'),\n",
       " ('rule', 'NN'),\n",
       " ('of', 'IN'),\n",
       " ('Chatrapati', 'NNP'),\n",
       " ('Shivaji', 'NNP'),\n",
       " ('Maharaj', 'NNP'),\n",
       " ('for', 'IN'),\n",
       " ('almost', 'RB'),\n",
       " ('26', 'CD'),\n",
       " ('years', 'NNS'),\n",
       " ('after', 'IN'),\n",
       " ('w', 'NN'),\n",
       " ('hich', 'VBD'),\n",
       " ('the', 'DT'),\n",
       " ('capital', 'NN'),\n",
       " ('was', 'VBD'),\n",
       " ('moved', 'VBN'),\n",
       " ('to', 'TO'),\n",
       " ('the', 'DT'),\n",
       " ('Raigad', 'NNP'),\n",
       " ('Fort', 'NNP'),\n",
       " ('1', 'CD'),\n",
       " ('Treasures', 'NNS'),\n",
       " ('discovered', 'VBN'),\n",
       " ('from', 'IN'),\n",
       " ('an', 'DT'),\n",
       " ('adjac', 'JJ'),\n",
       " ('ent', 'NN'),\n",
       " ('fort', 'NN'),\n",
       " ('called', 'VBN'),\n",
       " ('Torna', 'NNP'),\n",
       " ('were', 'VBD'),\n",
       " ('used', 'VBN'),\n",
       " ('to', 'TO'),\n",
       " ('completely', 'RB'),\n",
       " ('build', 'VB'),\n",
       " ('and', 'CC'),\n",
       " ('fortify', 'VB'),\n",
       " ('the', 'DT'),\n",
       " ('Rajgad', 'NNP'),\n",
       " ('Fort', 'NNP')]"
      ]
     },
     "execution_count": 33,
     "metadata": {},
     "output_type": "execute_result"
    }
   ],
   "source": [
    "pos_tag(t)"
   ]
  },
  {
   "cell_type": "markdown",
   "id": "ea165d80-c664-4705-84c5-8341d45004bd",
   "metadata": {},
   "source": [
    "## 5. Calculate Term Frequency - Inverse Document Frequency (TF-IDF) for each word"
   ]
  },
  {
   "cell_type": "code",
   "execution_count": 34,
   "id": "0a76f349-1936-4acd-9560-4985460b0da8",
   "metadata": {},
   "outputs": [],
   "source": [
    "from sklearn.feature_extraction.text import TfidfVectorizer"
   ]
  },
  {
   "cell_type": "code",
   "execution_count": 35,
   "id": "3ee02258-e367-4658-9a37-ec67ea5f26a6",
   "metadata": {},
   "outputs": [],
   "source": [
    "tfidf = TfidfVectorizer()"
   ]
  },
  {
   "cell_type": "code",
   "execution_count": 36,
   "id": "d7ed4ba4-05aa-4979-9801-5655a11aa880",
   "metadata": {},
   "outputs": [],
   "source": [
    "v=tfidf.fit_transform(t)"
   ]
  },
  {
   "cell_type": "code",
   "execution_count": 37,
   "id": "b22e727b-11ce-48e4-9ecb-334c01672882",
   "metadata": {},
   "outputs": [
    {
     "data": {
      "text/plain": [
       "(73, 52)"
      ]
     },
     "execution_count": 37,
     "metadata": {},
     "output_type": "execute_result"
    }
   ],
   "source": [
    "v.shape"
   ]
  },
  {
   "cell_type": "code",
   "execution_count": 38,
   "id": "c36b1dc1-c11e-43f2-895e-27c2d6bae7bc",
   "metadata": {},
   "outputs": [
    {
     "data": {
      "text/html": [
       "<div>\n",
       "<style scoped>\n",
       "    .dataframe tbody tr th:only-of-type {\n",
       "        vertical-align: middle;\n",
       "    }\n",
       "\n",
       "    .dataframe tbody tr th {\n",
       "        vertical-align: top;\n",
       "    }\n",
       "\n",
       "    .dataframe thead th {\n",
       "        text-align: right;\n",
       "    }\n",
       "</style>\n",
       "<table border=\"1\" class=\"dataframe\">\n",
       "  <thead>\n",
       "    <tr style=\"text-align: right;\">\n",
       "      <th></th>\n",
       "      <th>0</th>\n",
       "    </tr>\n",
       "  </thead>\n",
       "  <tbody>\n",
       "    <tr>\n",
       "      <th>0</th>\n",
       "      <td>(0, 37)\\t1.0</td>\n",
       "    </tr>\n",
       "    <tr>\n",
       "      <th>1</th>\n",
       "      <td>(0, 27)\\t1.0</td>\n",
       "    </tr>\n",
       "    <tr>\n",
       "      <th>2</th>\n",
       "      <td>(0, 31)\\t1.0</td>\n",
       "    </tr>\n",
       "    <tr>\n",
       "      <th>3</th>\n",
       "      <td>(0, 39)\\t1.0</td>\n",
       "    </tr>\n",
       "    <tr>\n",
       "      <th>4</th>\n",
       "      <td>(0, 18)\\t1.0</td>\n",
       "    </tr>\n",
       "    <tr>\n",
       "      <th>...</th>\n",
       "      <td>...</td>\n",
       "    </tr>\n",
       "    <tr>\n",
       "      <th>68</th>\n",
       "      <td>(0, 5)\\t1.0</td>\n",
       "    </tr>\n",
       "    <tr>\n",
       "      <th>69</th>\n",
       "      <td>(0, 19)\\t1.0</td>\n",
       "    </tr>\n",
       "    <tr>\n",
       "      <th>70</th>\n",
       "      <td>(0, 43)\\t1.0</td>\n",
       "    </tr>\n",
       "    <tr>\n",
       "      <th>71</th>\n",
       "      <td>(0, 37)\\t1.0</td>\n",
       "    </tr>\n",
       "    <tr>\n",
       "      <th>72</th>\n",
       "      <td>(0, 18)\\t1.0</td>\n",
       "    </tr>\n",
       "  </tbody>\n",
       "</table>\n",
       "<p>73 rows × 1 columns</p>\n",
       "</div>"
      ],
      "text/plain": [
       "                 0\n",
       "0     (0, 37)\\t1.0\n",
       "1     (0, 27)\\t1.0\n",
       "2     (0, 31)\\t1.0\n",
       "3     (0, 39)\\t1.0\n",
       "4     (0, 18)\\t1.0\n",
       "..             ...\n",
       "68     (0, 5)\\t1.0\n",
       "69    (0, 19)\\t1.0\n",
       "70    (0, 43)\\t1.0\n",
       "71    (0, 37)\\t1.0\n",
       "72    (0, 18)\\t1.0\n",
       "\n",
       "[73 rows x 1 columns]"
      ]
     },
     "execution_count": 38,
     "metadata": {},
     "output_type": "execute_result"
    }
   ],
   "source": [
    "import pandas as pd\n",
    "pd.DataFrame(v)"
   ]
  }
 ],
 "metadata": {
  "kernelspec": {
   "display_name": "Python 3 (ipykernel)",
   "language": "python",
   "name": "python3"
  },
  "language_info": {
   "codemirror_mode": {
    "name": "ipython",
    "version": 3
   },
   "file_extension": ".py",
   "mimetype": "text/x-python",
   "name": "python",
   "nbconvert_exporter": "python",
   "pygments_lexer": "ipython3",
   "version": "3.12.7"
  }
 },
 "nbformat": 4,
 "nbformat_minor": 5
}
